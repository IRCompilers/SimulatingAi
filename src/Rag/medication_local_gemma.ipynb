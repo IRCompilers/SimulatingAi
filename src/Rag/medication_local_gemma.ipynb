{
 "cells": [
  {
   "cell_type": "markdown",
   "source": [
    "# Data processing"
   ],
   "metadata": {
    "collapsed": false
   },
   "id": "cfaa8a0428499d50"
  },
  {
   "cell_type": "code",
   "outputs": [],
   "source": [
    "import pandas as pd"
   ],
   "metadata": {
    "collapsed": false,
    "ExecuteTime": {
     "end_time": "2024-04-01T12:30:19.813515Z",
     "start_time": "2024-04-01T12:30:19.811179Z"
    }
   },
   "id": "5db4b4c189cad7bd",
   "execution_count": 38
  },
  {
   "cell_type": "code",
   "outputs": [
    {
     "data": {
      "text/plain": "pandas.core.frame.DataFrame"
     },
     "execution_count": 54,
     "metadata": {},
     "output_type": "execute_result"
    }
   ],
   "source": [
    "dataset_df = pd.read_csv('medications.csv')\n",
    "\n",
    "# Display the first 5 rows\n",
    "dataset_df.head(5)\n",
    "\n",
    "type(dataset_df)"
   ],
   "metadata": {
    "collapsed": false,
    "ExecuteTime": {
     "end_time": "2024-04-01T12:38:09.054942Z",
     "start_time": "2024-04-01T12:38:09.047329Z"
    }
   },
   "id": "a6f394c4eef8500d",
   "execution_count": 54
  },
  {
   "cell_type": "markdown",
   "source": [
    "# Embedding"
   ],
   "metadata": {
    "collapsed": false
   },
   "id": "25922dea94cca87f"
  },
  {
   "cell_type": "code",
   "outputs": [
    {
     "data": {
      "text/plain": "list"
     },
     "execution_count": 53,
     "metadata": {},
     "output_type": "execute_result"
    }
   ],
   "source": [
    "from sentence_transformers import SentenceTransformer\n",
    "\n",
    "# Load pre-trained model and tokenizer\n",
    "embedding_model = SentenceTransformer(\"thenlper/gte-large\")\n",
    "\n",
    "\n",
    "def get_embedding(text: str) -> list[float]:\n",
    "    if not text.strip():\n",
    "        print(\"Attempted to get embedding for empty text.\")\n",
    "        return []\n",
    "\n",
    "    embedding = embedding_model.encode(text)\n",
    "\n",
    "    return embedding.tolist()\n",
    "\n",
    "\n",
    "dataset_df[\"embedding\"] = dataset_df[\"description\"].apply(get_embedding)\n",
    "\n",
    "\n",
    "\n",
    "dataset_df.head()"
   ],
   "metadata": {
    "collapsed": false,
    "ExecuteTime": {
     "end_time": "2024-04-01T12:37:56.775599Z",
     "start_time": "2024-04-01T12:37:50.327964Z"
    }
   },
   "id": "be458ec70c66dd0b",
   "execution_count": 53
  },
  {
   "cell_type": "markdown",
   "source": [
    "# Vector querying"
   ],
   "metadata": {
    "collapsed": false
   },
   "id": "647314bffdce0a5c"
  },
  {
   "cell_type": "code",
   "outputs": [
    {
     "data": {
      "text/plain": "         name  id                                        description  \\\n12    Muchiol  13  Cures osteoporosis. Side effects: dizziness, d...   \n13  Pelsiplex  14  Cures hypertension. Side effects: fatigue, nau...   \n9       Errox  10    Cures pneumonia. Side effects: fatigue, nausea.   \n1     Glucose   2     Cures fever. Side effects: fatigue, dry mouth.   \n11     Kisuel  12  Cures arthritis. Side effects: muscle pain, fe...   \n\n                                            embedding  similarity  \n12  [-0.0094228470697999, -0.013953697867691517, -...    0.921086  \n13  [-0.0030195650178939104, 0.0028950369451195, -...    0.851831  \n9   [0.008347771130502224, -0.022028645500540733, ...    0.845456  \n1   [0.0032626676838845015, -0.01925014704465866, ...    0.837479  \n11  [-0.0027620354667305946, -0.0041565359570086, ...    0.836944  ",
      "text/html": "<div>\n<style scoped>\n    .dataframe tbody tr th:only-of-type {\n        vertical-align: middle;\n    }\n\n    .dataframe tbody tr th {\n        vertical-align: top;\n    }\n\n    .dataframe thead th {\n        text-align: right;\n    }\n</style>\n<table border=\"1\" class=\"dataframe\">\n  <thead>\n    <tr style=\"text-align: right;\">\n      <th></th>\n      <th>name</th>\n      <th>id</th>\n      <th>description</th>\n      <th>embedding</th>\n      <th>similarity</th>\n    </tr>\n  </thead>\n  <tbody>\n    <tr>\n      <th>12</th>\n      <td>Muchiol</td>\n      <td>13</td>\n      <td>Cures osteoporosis. Side effects: dizziness, d...</td>\n      <td>[-0.0094228470697999, -0.013953697867691517, -...</td>\n      <td>0.921086</td>\n    </tr>\n    <tr>\n      <th>13</th>\n      <td>Pelsiplex</td>\n      <td>14</td>\n      <td>Cures hypertension. Side effects: fatigue, nau...</td>\n      <td>[-0.0030195650178939104, 0.0028950369451195, -...</td>\n      <td>0.851831</td>\n    </tr>\n    <tr>\n      <th>9</th>\n      <td>Errox</td>\n      <td>10</td>\n      <td>Cures pneumonia. Side effects: fatigue, nausea.</td>\n      <td>[0.008347771130502224, -0.022028645500540733, ...</td>\n      <td>0.845456</td>\n    </tr>\n    <tr>\n      <th>1</th>\n      <td>Glucose</td>\n      <td>2</td>\n      <td>Cures fever. Side effects: fatigue, dry mouth.</td>\n      <td>[0.0032626676838845015, -0.01925014704465866, ...</td>\n      <td>0.837479</td>\n    </tr>\n    <tr>\n      <th>11</th>\n      <td>Kisuel</td>\n      <td>12</td>\n      <td>Cures arthritis. Side effects: muscle pain, fe...</td>\n      <td>[-0.0027620354667305946, -0.0041565359570086, ...</td>\n      <td>0.836944</td>\n    </tr>\n  </tbody>\n</table>\n</div>"
     },
     "execution_count": 50,
     "metadata": {},
     "output_type": "execute_result"
    }
   ],
   "source": [
    "from sklearn.metrics.pairwise import cosine_similarity\n",
    "\n",
    "\n",
    "def query_system(query, df, top_n=5):\n",
    "    # Get the embedding of the query\n",
    "    query_embedding = get_embedding(query)\n",
    "\n",
    "    # Compute the cosine similarity between the query and all embeddings in the dataframe\n",
    "    similarities = cosine_similarity([query_embedding], df['embedding'].tolist())[0]\n",
    "\n",
    "    # Add the similarity scores to the dataframe\n",
    "    df['similarity'] = similarities\n",
    "\n",
    "    # Sort the dataframe by similarity and return the top results\n",
    "    top_results = df.sort_values(by='similarity', ascending=False).head(top_n)\n",
    "\n",
    "    return top_results\n",
    "\n",
    "\n",
    "# Query the system\n",
    "query = \"What is a medication that cures osteoporosis or cures fatigue?\"\n",
    "top_results = query_system(query, dataset_df)\n",
    "\n",
    "top_results"
   ],
   "metadata": {
    "collapsed": false,
    "ExecuteTime": {
     "end_time": "2024-04-01T12:32:58.381135Z",
     "start_time": "2024-04-01T12:32:57.989588Z"
    }
   },
   "id": "8ab9c98edf3fb2ca",
   "execution_count": 50
  },
  {
   "cell_type": "markdown",
   "source": [
    "# RAG Querying"
   ],
   "metadata": {
    "collapsed": false
   },
   "id": "3b34e42821825f19"
  },
  {
   "cell_type": "code",
   "outputs": [],
   "source": [
    "from openai import OpenAI\n",
    "\n",
    "\n",
    "def query_gemma(original_query: str, top_docs: pd.DataFrame):\n",
    "    context = \"\"\n",
    "\n",
    "    names = top_docs[\"name\"].tolist()\n",
    "    ids = top_docs[\"id\"].tolist()\n",
    "    descriptions = top_docs[\"description\"].tolist()\n",
    "\n",
    "    for i in range(len(names)):\n",
    "        context += f\"Name:{names[i]},  Id: {ids[i]}, Description: {descriptions[i]}\\n\"\n",
    "        \n",
    "    \n",
    "    print(context)\n",
    "        \n",
    "\n",
    "    client = OpenAI(base_url=\"http://localhost:1234/v1\", api_key=\"lm-studio\")\n",
    "    completion = client.chat.completions.create(\n",
    "        model=\"local-model\",\n",
    "        messages=[\n",
    "            {\"role\": \"system\",\n",
    "             \"content\": f\"{context}. Return the medication name on the first word of the response\"},\n",
    "            {\"role\": \"user\", \"content\": original_query}\n",
    "        ],\n",
    "        temperature=0.7,\n",
    "    )\n",
    "\n",
    "    return completion"
   ],
   "metadata": {
    "collapsed": false,
    "ExecuteTime": {
     "end_time": "2024-04-01T12:33:02.023868Z",
     "start_time": "2024-04-01T12:33:02.017523Z"
    }
   },
   "id": "771a63cfee9b154e",
   "execution_count": 51
  },
  {
   "cell_type": "code",
   "outputs": [
    {
     "name": "stdout",
     "output_type": "stream",
     "text": [
      "Name:Muchiol,  Id: 13, Description: Cures osteoporosis. Side effects: dizziness, dry mouth.\n",
      "Name:Pelsiplex,  Id: 14, Description: Cures hypertension. Side effects: fatigue, nausea.\n",
      "Name:Errox,  Id: 10, Description: Cures pneumonia. Side effects: fatigue, nausea.\n",
      "Name:Glucose,  Id: 2, Description: Cures fever. Side effects: fatigue, dry mouth.\n",
      "Name:Kisuel,  Id: 12, Description: Cures arthritis. Side effects: muscle pain, fever.\n"
     ]
    },
    {
     "data": {
      "text/plain": "ChatCompletion(id='chatcmpl-8ahv4hs1p8m9xhplfj2p1', choices=[Choice(finish_reason='stop', index=0, logprobs=None, message=ChatCompletionMessage(content='The medication that cures osteoporosis is Muchiol, with the ID 13. It helps to cure osteoporosis by curing bone loss.', role='assistant', function_call=None, tool_calls=None))], created=1711974782, model='Loaded from Chat UI', object='chat.completion', system_fingerprint=None, usage=CompletionUsage(completion_tokens=26, prompt_tokens=26, total_tokens=52))"
     },
     "execution_count": 52,
     "metadata": {},
     "output_type": "execute_result"
    }
   ],
   "source": [
    "temp = query_gemma(query, top_results)\n",
    "temp"
   ],
   "metadata": {
    "collapsed": false,
    "ExecuteTime": {
     "end_time": "2024-04-01T12:33:04.339285Z",
     "start_time": "2024-04-01T12:33:02.858642Z"
    }
   },
   "id": "8a986a1a280743bd",
   "execution_count": 52
  },
  {
   "cell_type": "code",
   "outputs": [],
   "source": [],
   "metadata": {
    "collapsed": false,
    "ExecuteTime": {
     "end_time": "2024-04-01T12:30:28.145458Z",
     "start_time": "2024-04-01T12:30:28.143525Z"
    }
   },
   "id": "f7520a08adea4e93",
   "execution_count": 43
  }
 ],
 "metadata": {
  "kernelspec": {
   "display_name": "Python 3",
   "language": "python",
   "name": "python3"
  },
  "language_info": {
   "codemirror_mode": {
    "name": "ipython",
    "version": 2
   },
   "file_extension": ".py",
   "mimetype": "text/x-python",
   "name": "python",
   "nbconvert_exporter": "python",
   "pygments_lexer": "ipython2",
   "version": "2.7.6"
  }
 },
 "nbformat": 4,
 "nbformat_minor": 5
}
