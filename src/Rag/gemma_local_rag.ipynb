{
 "cells": [
  {
   "cell_type": "markdown",
   "source": [
    "# Data Preprocessing"
   ],
   "metadata": {
    "collapsed": false
   },
   "id": "719270fe1d64c261"
  },
  {
   "cell_type": "code",
   "execution_count": null,
   "id": "initial_id",
   "metadata": {
    "collapsed": true
   },
   "outputs": [],
   "source": [
    "from datasets import load_dataset\n",
    "import pandas as pd\n",
    "\n",
    "# https://huggingface.co/datasets/MongoDB/embedded_movies\n",
    "dataset = load_dataset(\"MongoDB/embedded_movies\")\n",
    "\n",
    "# Convert the dataset to a pandas dataframe\n",
    "dataset_df = pd.DataFrame(dataset[\"train\"])\n",
    "\n",
    "dataset_df.head(5)"
   ]
  },
  {
   "cell_type": "code",
   "outputs": [],
   "source": [
    "dataset_df = dataset_df.dropna(subset=[\"fullplot\"])\n",
    "print(\"\\nNumber of missing values in each column after removal:\")\n",
    "print(dataset_df.isnull().sum())\n",
    "\n",
    "# Remove the plot_embedding from each data point in the dataset as we are going to create new embeddings with an open source embedding model from Hugging Face\n",
    "dataset_df = dataset_df.drop(columns=[\"plot_embedding\"])\n",
    "dataset_df.head(5)"
   ],
   "metadata": {
    "collapsed": false,
    "ExecuteTime": {
     "start_time": "2024-03-29T16:51:54.247484Z"
    }
   },
   "id": "bf8c023936d0dc80",
   "execution_count": null
  },
  {
   "cell_type": "code",
   "outputs": [],
   "source": [
    "from sentence_transformers import SentenceTransformer\n",
    "\n",
    "# Load pre-trained model and tokenizer\n",
    "embedding_model = SentenceTransformer(\"thenlper/gte-large\")\n",
    "\n",
    "\n",
    "def get_embedding(text: str) -> list[float]:\n",
    "    if not text.strip():\n",
    "        print(\"Attempted to get embedding for empty text.\")\n",
    "        return []\n",
    "\n",
    "    embedding = embedding_model.encode(text)\n",
    "\n",
    "    return embedding.tolist()\n",
    "\n",
    "\n",
    "dataset_df[\"embedding\"] = dataset_df[\"fullplot\"].apply(get_embedding)\n",
    "\n",
    "dataset_df.head()"
   ],
   "metadata": {
    "collapsed": false,
    "ExecuteTime": {
     "start_time": "2024-03-29T16:51:54.257107Z"
    }
   },
   "id": "e2598421b8748987",
   "execution_count": null
  },
  {
   "cell_type": "code",
   "outputs": [],
   "source": [
    "from sklearn.metrics.pairwise import cosine_similarity\n",
    "\n",
    "\n",
    "def query_system(query, df, top_n=5):\n",
    "    # Get the embedding of the query\n",
    "    query_embedding = get_embedding(query)\n",
    "\n",
    "    # Compute the cosine similarity between the query and all embeddings in the dataframe\n",
    "    similarities = cosine_similarity([query_embedding], df['embedding'].tolist())[0]\n",
    "\n",
    "    # Add the similarity scores to the dataframe\n",
    "    df['similarity'] = similarities\n",
    "\n",
    "    # Sort the dataframe by similarity and return the top results\n",
    "    top_results = df.sort_values(by='similarity', ascending=False).head(top_n)\n",
    "\n",
    "    return top_results\n",
    "\n",
    "\n",
    "# Query the system\n",
    "query = \"What are some good romantic movies to watch?\"\n",
    "top_results = query_system(query, dataset_df)\n",
    "\n",
    "top_results"
   ],
   "metadata": {
    "collapsed": false,
    "ExecuteTime": {
     "start_time": "2024-03-29T16:54:03.568808Z"
    }
   },
   "id": "979ca5a2685b1457",
   "execution_count": null
  },
  {
   "cell_type": "markdown",
   "source": [
    "# LLM querying"
   ],
   "metadata": {
    "collapsed": false
   },
   "id": "96e4d1c7d3c76a9c"
  },
  {
   "cell_type": "code",
   "outputs": [],
   "source": [
    "from openai import OpenAI\n",
    "\n",
    "\n",
    "def query_gemma(original_query: str, top_docs: pd.DataFrame):\n",
    "    # Send a request to the Gemma model with the top 5 documents as the system message and the original query as the user message\n",
    "\n",
    "    context = \"\"\n",
    "\n",
    "    titles = top_docs[\"title\"].tolist()\n",
    "    plots = top_docs[\"fullplot\"].tolist()\n",
    "    genres = top_docs[\"genres\"].tolist()\n",
    "\n",
    "    for i in range(len(titles)):\n",
    "        context += f\"Title:{titles[i]},  Plot: {plots[i]}, Genres: {genres[i]}\\n\"\n",
    "        \n",
    "    print(context)\n",
    "\n",
    "    client = OpenAI(base_url=\"http://localhost:1234/v1\", api_key=\"lm-studio\")\n",
    "    completion = client.chat.completions.create(\n",
    "        model=\"local-model\",\n",
    "        messages=[\n",
    "            {\"role\": \"system\",\n",
    "             \"content\": f\"Given this csv about movies in my system {context} answer the following query\"},\n",
    "            {\"role\": \"user\", \"content\": original_query}\n",
    "        ],\n",
    "        temperature=0.7,\n",
    "    )\n",
    "\n",
    "    return completion"
   ],
   "metadata": {
    "collapsed": false,
    "ExecuteTime": {
     "start_time": "2024-03-29T16:54:03.655152Z"
    }
   },
   "id": "a840382754abc5b1",
   "execution_count": null
  },
  {
   "cell_type": "code",
   "outputs": [],
   "source": [
    "temp = query_gemma(query, top_results)"
   ],
   "metadata": {
    "collapsed": false,
    "ExecuteTime": {
     "start_time": "2024-03-29T16:54:03.924600Z"
    }
   },
   "id": "85a10247a2756cd",
   "execution_count": null
  },
  {
   "cell_type": "code",
   "outputs": [],
   "source": [
    "temp"
   ],
   "metadata": {
    "collapsed": false,
    "ExecuteTime": {
     "start_time": "2024-03-29T16:54:06.995243Z"
    }
   },
   "id": "374aeefa1ebb530d",
   "execution_count": null
  },
  {
   "cell_type": "code",
   "outputs": [],
   "source": [],
   "metadata": {
    "collapsed": false,
    "ExecuteTime": {
     "start_time": "2024-03-29T16:54:06.995599Z"
    }
   },
   "id": "d41f99a6c7e0a5b1",
   "execution_count": null
  }
 ],
 "metadata": {
  "kernelspec": {
   "display_name": "Python 3",
   "language": "python",
   "name": "python3"
  },
  "language_info": {
   "codemirror_mode": {
    "name": "ipython",
    "version": 2
   },
   "file_extension": ".py",
   "mimetype": "text/x-python",
   "name": "python",
   "nbconvert_exporter": "python",
   "pygments_lexer": "ipython2",
   "version": "2.7.6"
  }
 },
 "nbformat": 4,
 "nbformat_minor": 5
}
