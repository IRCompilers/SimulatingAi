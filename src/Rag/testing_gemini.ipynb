{
 "cells": [
  {
   "cell_type": "code",
   "execution_count": null,
   "id": "initial_id",
   "metadata": {
    "collapsed": true
   },
   "outputs": [],
   "source": [
    "from dotenv import load_dotenv\n",
    "import os\n",
    "import pathlib\n",
    "import textwrap\n",
    "\n",
    "import google.generativeai as genai\n",
    "\n",
    "from IPython.display import display\n",
    "from IPython.display import Markdown\n",
    "\n",
    "load_dotenv()\n",
    "\n",
    "\n",
    "def to_markdown(text):\n",
    "  text = text.replace('•', '  *')\n",
    "  return Markdown(textwrap.indent(text, '> ', predicate=lambda _: True))"
   ]
  },
  {
   "cell_type": "code",
   "outputs": [],
   "source": [
    "api_key = os.getenv('GOOGLE_API_KEY')\n",
    "genai.configure(api_key=api_key)"
   ],
   "metadata": {
    "collapsed": false,
    "ExecuteTime": {
     "end_time": "2024-04-02T22:30:32.749608Z",
     "start_time": "2024-04-02T22:30:32.746055Z"
    }
   },
   "id": "2eafc03880389d68",
   "execution_count": 11
  },
  {
   "cell_type": "code",
   "outputs": [
    {
     "name": "stdout",
     "output_type": "stream",
     "text": [
      "models/gemini-1.0-pro\n",
      "models/gemini-1.0-pro-001\n",
      "models/gemini-1.0-pro-latest\n",
      "models/gemini-1.0-pro-vision-latest\n",
      "models/gemini-pro\n",
      "models/gemini-pro-vision\n"
     ]
    }
   ],
   "source": [
    "for m in genai.list_models():\n",
    "  if 'generateContent' in m.supported_generation_methods:\n",
    "    print(m.name)"
   ],
   "metadata": {
    "collapsed": false,
    "ExecuteTime": {
     "end_time": "2024-04-02T22:30:45.996385Z",
     "start_time": "2024-04-02T22:30:44.472819Z"
    }
   },
   "id": "8e3e0f4bb08670cb",
   "execution_count": 12
  },
  {
   "cell_type": "code",
   "outputs": [],
   "source": [
    "model = genai.GenerativeModel('gemini-pro')"
   ],
   "metadata": {
    "collapsed": false,
    "ExecuteTime": {
     "end_time": "2024-04-02T22:31:04.010294Z",
     "start_time": "2024-04-02T22:31:04.008056Z"
    }
   },
   "id": "8edf827cd5234f08",
   "execution_count": 13
  },
  {
   "cell_type": "code",
   "outputs": [],
   "source": [
    "response = model.generate_content(\"What is the meaning of life?\")"
   ],
   "metadata": {
    "collapsed": false,
    "ExecuteTime": {
     "end_time": "2024-04-02T22:31:30.032529Z",
     "start_time": "2024-04-02T22:31:18.124813Z"
    }
   },
   "id": "d5a6a189c15d38ca",
   "execution_count": 14
  },
  {
   "cell_type": "code",
   "outputs": [
    {
     "data": {
      "text/plain": "<IPython.core.display.Markdown object>",
      "text/markdown": "> **Personal Perspectives:**\n> \n> * Finding purpose and fulfillment in relationships, work, hobbies, or values\n> * Experiencing joy, love, and happiness\n> * Making a positive impact on the world\n> * Pursuing personal growth, learning, and self-actualization\n> * Living in harmony with nature or a higher power\n> \n> **Philosophical Views:**\n> \n> * **Existentialism:** Meaning is created by individuals through their choices and actions.\n> * **Hedonism:** Meaning lies in maximizing pleasure and minimizing pain.\n> * **Stoicism:** Meaning is found in accepting the inevitable and living virtuously.\n> * **Absurdism:** Life has no inherent meaning, but we can create meaning through our own struggles and choices.\n> * **Nihilism:** Life is meaningless, and there is no point in searching for meaning.\n> \n> **Scientific Perspectives:**\n> \n> * **Evolutionary biology:** Meaning may be an evolutionary adaptation that helps us survive and thrive.\n> * **Cognitive neuroscience:** Meaning is associated with specific brain regions and involves a subjective sense of purpose and significance.\n> \n> **Religious and Spiritual Perspectives:**\n> \n> * **Theism:** Meaning is found in the service or worship of a divine being.\n> * **Atheism:** Meaning is found in life itself, without the need for religious belief.\n> * **Agnosticism:** We cannot know the meaning of life, but we can search for it.\n> * **Buddhism:** Meaning is found in the pursuit of enlightenment and the end of suffering.\n> * **Hinduism:** Meaning is found in the cycle of reincarnation and the attainment of spiritual liberation.\n> \n> **Cultural Influences:**\n> \n> Meaning can be influenced by cultural values, traditions, and beliefs. For example:\n> \n> * **Individualism:** The emphasis is on personal achievement and self-reliance.\n> * **Collectivism:** Meaning is found in relationships and contributing to the group.\n> * **Traditional societies:** Meaning is often rooted in religious or mythological beliefs.\n> \n> Ultimately, the meaning of life is a personal and subjective experience. There is no single, objective answer that applies to everyone. It is a question that individuals can explore throughout their lives, as they seek purpose, fulfillment, and connection."
     },
     "execution_count": 15,
     "metadata": {},
     "output_type": "execute_result"
    }
   ],
   "source": [
    "to_markdown(response.text)"
   ],
   "metadata": {
    "collapsed": false,
    "ExecuteTime": {
     "end_time": "2024-04-02T22:31:31.627862Z",
     "start_time": "2024-04-02T22:31:31.624351Z"
    }
   },
   "id": "8de6c2f9ecee276f",
   "execution_count": 15
  },
  {
   "cell_type": "code",
   "outputs": [],
   "source": [],
   "metadata": {
    "collapsed": false
   },
   "id": "64c399ecafdaf94c"
  }
 ],
 "metadata": {
  "kernelspec": {
   "display_name": "Python 3",
   "language": "python",
   "name": "python3"
  },
  "language_info": {
   "codemirror_mode": {
    "name": "ipython",
    "version": 2
   },
   "file_extension": ".py",
   "mimetype": "text/x-python",
   "name": "python",
   "nbconvert_exporter": "python",
   "pygments_lexer": "ipython2",
   "version": "2.7.6"
  }
 },
 "nbformat": 4,
 "nbformat_minor": 5
}
